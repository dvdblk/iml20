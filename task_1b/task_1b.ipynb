{
 "cells": [
  {
   "cell_type": "code",
   "execution_count": 1,
   "metadata": {},
   "outputs": [],
   "source": [
    "import numpy as np\n",
    "import pandas as pd\n",
    "from tqdm import tqdm\n",
    "\n",
    "from sklearn.linear_model import LinearRegression, Ridge\n",
    "\n",
    "np.random.seed(1337)"
   ]
  },
  {
   "cell_type": "markdown",
   "metadata": {},
   "source": [
    "# Data"
   ]
  },
  {
   "cell_type": "code",
   "execution_count": 2,
   "metadata": {},
   "outputs": [
    {
     "data": {
      "text/html": [
       "<div>\n",
       "<style scoped>\n",
       "    .dataframe tbody tr th:only-of-type {\n",
       "        vertical-align: middle;\n",
       "    }\n",
       "\n",
       "    .dataframe tbody tr th {\n",
       "        vertical-align: top;\n",
       "    }\n",
       "\n",
       "    .dataframe thead th {\n",
       "        text-align: right;\n",
       "    }\n",
       "</style>\n",
       "<table border=\"1\" class=\"dataframe\">\n",
       "  <thead>\n",
       "    <tr style=\"text-align: right;\">\n",
       "      <th></th>\n",
       "      <th>Id</th>\n",
       "      <th>y</th>\n",
       "      <th>x1</th>\n",
       "      <th>x2</th>\n",
       "      <th>x3</th>\n",
       "      <th>x4</th>\n",
       "      <th>x5</th>\n",
       "    </tr>\n",
       "  </thead>\n",
       "  <tbody>\n",
       "    <tr>\n",
       "      <th>0</th>\n",
       "      <td>0</td>\n",
       "      <td>3.579620</td>\n",
       "      <td>0.02</td>\n",
       "      <td>0.05</td>\n",
       "      <td>-0.09</td>\n",
       "      <td>-0.43</td>\n",
       "      <td>-0.08</td>\n",
       "    </tr>\n",
       "    <tr>\n",
       "      <th>1</th>\n",
       "      <td>1</td>\n",
       "      <td>0.734869</td>\n",
       "      <td>-0.13</td>\n",
       "      <td>0.11</td>\n",
       "      <td>-0.08</td>\n",
       "      <td>-0.29</td>\n",
       "      <td>-0.03</td>\n",
       "    </tr>\n",
       "    <tr>\n",
       "      <th>2</th>\n",
       "      <td>2</td>\n",
       "      <td>4.287433</td>\n",
       "      <td>0.08</td>\n",
       "      <td>0.06</td>\n",
       "      <td>-0.07</td>\n",
       "      <td>-0.41</td>\n",
       "      <td>-0.03</td>\n",
       "    </tr>\n",
       "    <tr>\n",
       "      <th>3</th>\n",
       "      <td>3</td>\n",
       "      <td>8.347827</td>\n",
       "      <td>0.02</td>\n",
       "      <td>-0.12</td>\n",
       "      <td>0.01</td>\n",
       "      <td>-0.43</td>\n",
       "      <td>-0.02</td>\n",
       "    </tr>\n",
       "    <tr>\n",
       "      <th>4</th>\n",
       "      <td>4</td>\n",
       "      <td>-0.052718</td>\n",
       "      <td>-0.14</td>\n",
       "      <td>-0.12</td>\n",
       "      <td>-0.08</td>\n",
       "      <td>-0.02</td>\n",
       "      <td>-0.08</td>\n",
       "    </tr>\n",
       "  </tbody>\n",
       "</table>\n",
       "</div>"
      ],
      "text/plain": [
       "   Id         y    x1    x2    x3    x4    x5\n",
       "0   0  3.579620  0.02  0.05 -0.09 -0.43 -0.08\n",
       "1   1  0.734869 -0.13  0.11 -0.08 -0.29 -0.03\n",
       "2   2  4.287433  0.08  0.06 -0.07 -0.41 -0.03\n",
       "3   3  8.347827  0.02 -0.12  0.01 -0.43 -0.02\n",
       "4   4 -0.052718 -0.14 -0.12 -0.08 -0.02 -0.08"
      ]
     },
     "metadata": {},
     "output_type": "display_data"
    },
    {
     "data": {
      "text/html": [
       "<div>\n",
       "<style scoped>\n",
       "    .dataframe tbody tr th:only-of-type {\n",
       "        vertical-align: middle;\n",
       "    }\n",
       "\n",
       "    .dataframe tbody tr th {\n",
       "        vertical-align: top;\n",
       "    }\n",
       "\n",
       "    .dataframe thead th {\n",
       "        text-align: right;\n",
       "    }\n",
       "</style>\n",
       "<table border=\"1\" class=\"dataframe\">\n",
       "  <thead>\n",
       "    <tr style=\"text-align: right;\">\n",
       "      <th></th>\n",
       "      <th>x1</th>\n",
       "      <th>x2</th>\n",
       "      <th>x3</th>\n",
       "      <th>x4</th>\n",
       "      <th>x5</th>\n",
       "    </tr>\n",
       "  </thead>\n",
       "  <tbody>\n",
       "    <tr>\n",
       "      <th>107</th>\n",
       "      <td>-0.26</td>\n",
       "      <td>0.00</td>\n",
       "      <td>-0.01</td>\n",
       "      <td>-0.38</td>\n",
       "      <td>-0.06</td>\n",
       "    </tr>\n",
       "    <tr>\n",
       "      <th>622</th>\n",
       "      <td>-0.20</td>\n",
       "      <td>-0.18</td>\n",
       "      <td>0.00</td>\n",
       "      <td>-0.12</td>\n",
       "      <td>-0.08</td>\n",
       "    </tr>\n",
       "    <tr>\n",
       "      <th>47</th>\n",
       "      <td>-0.07</td>\n",
       "      <td>-0.17</td>\n",
       "      <td>-0.04</td>\n",
       "      <td>-0.27</td>\n",
       "      <td>-0.08</td>\n",
       "    </tr>\n",
       "    <tr>\n",
       "      <th>492</th>\n",
       "      <td>0.14</td>\n",
       "      <td>0.17</td>\n",
       "      <td>-0.18</td>\n",
       "      <td>-0.20</td>\n",
       "      <td>-0.02</td>\n",
       "    </tr>\n",
       "    <tr>\n",
       "      <th>25</th>\n",
       "      <td>-0.05</td>\n",
       "      <td>-0.05</td>\n",
       "      <td>-0.04</td>\n",
       "      <td>-0.05</td>\n",
       "      <td>-0.02</td>\n",
       "    </tr>\n",
       "  </tbody>\n",
       "</table>\n",
       "</div>"
      ],
      "text/plain": [
       "       x1    x2    x3    x4    x5\n",
       "107 -0.26  0.00 -0.01 -0.38 -0.06\n",
       "622 -0.20 -0.18  0.00 -0.12 -0.08\n",
       "47  -0.07 -0.17 -0.04 -0.27 -0.08\n",
       "492  0.14  0.17 -0.18 -0.20 -0.02\n",
       "25  -0.05 -0.05 -0.04 -0.05 -0.02"
      ]
     },
     "metadata": {},
     "output_type": "display_data"
    },
    {
     "data": {
      "text/plain": [
       "107     2.144951\n",
       "622    10.414371\n",
       "47      6.156960\n",
       "492     1.748840\n",
       "25      1.663411\n",
       "Name: y, dtype: float64"
      ]
     },
     "metadata": {},
     "output_type": "display_data"
    },
    {
     "name": "stdout",
     "output_type": "stream",
     "text": [
      "(700, 5) (700,)\n"
     ]
    }
   ],
   "source": [
    "np.set_printoptions(suppress=True)\n",
    "\n",
    "\n",
    "# load the data from a filepath\n",
    "data_filepath = 'data/train.csv'\n",
    "\n",
    "# create the dataframe\n",
    "raw_df = pd.read_csv(data_filepath, float_precision=\"round_trip\")\n",
    "display(raw_df.head())\n",
    "\n",
    "# Shuffle the data\n",
    "shuffled_df = raw_df.sample(frac=1)\n",
    "\n",
    "# Split into features and labels (still dataframes)\n",
    "X_df = shuffled_df.iloc[:, 2:]\n",
    "y_df = shuffled_df.iloc[:, 1]\n",
    "\n",
    "display(X_df.head())\n",
    "display(y_df.head())\n",
    "\n",
    "# Create numpy arrays from the pandas dataframes\n",
    "X = X_df.to_numpy()\n",
    "y = y_df.to_numpy()\n",
    "\n",
    "print(X.shape, y.shape)"
   ]
  },
  {
   "cell_type": "markdown",
   "metadata": {},
   "source": [
    "## Feature transformations\n",
    "\n",
    "* Linear\n",
    "\n",
    "  $$\\phi_1(\\mathbf{x}) = x_1,~ \\phi_2(\\mathbf{x}) = x_2,~ \\phi_3(\\mathbf{x}) = x_3,~ \\phi_4(\\mathbf{x}) = x_4,~ \\phi_5(\\mathbf{x}) = x_5,~$$\n",
    "  \n",
    "* Quadratic\n",
    "\n",
    "  $$\\phi_6(\\mathbf{x}) = x^2_1,~ \\phi_7(\\mathbf{x}) = x^2_2,~ \\phi_8(\\mathbf{x}) = x^2_3,~ \\phi_9(\\mathbf{x}) = x^2_4,~ \\phi_{10}(\\mathbf{x}) = x^2_5,~$$\n",
    "\n",
    "* Exponential\n",
    "\n",
    "    $$\\phi_{11}(\\mathbf{x}) = e^{x_1},~ \\phi_{12}(\\mathbf{x}) = e^{x_2},~ \\phi_{13}(\\mathbf{x}) = e^{x_3},~ \\phi_{14}(\\mathbf{x}) = e^{x_4},~ \\phi_{15}(\\mathbf{x}) = e^{x_5}$$\n",
    "    \n",
    "* Cosine\n",
    "\n",
    "    $$\\phi_{16}(\\mathbf{x}) = \\textrm{cos}(x_1),~ \\phi_{17}(\\mathbf{x}) = \\textrm{cos}(x_2),~ \\phi_{18}(\\mathbf{x}) = \\textrm{cos}(x_3),~ \\phi_{19}(\\mathbf{x}) = \\textrm{cos}(x_4),~ \\phi_{20}(\\mathbf{x}) = \\textrm{cos}(x_5)$$\n",
    "\n",
    "* Constant\n",
    "\n",
    "    $$\\phi_{21}(\\mathbf{x})=1$$"
   ]
  },
  {
   "cell_type": "code",
   "execution_count": 3,
   "metadata": {},
   "outputs": [],
   "source": [
    "def transform_features(data):\n",
    "    linear = data.copy()\n",
    "\n",
    "    quadratic = np.multiply(data, data)\n",
    "\n",
    "    exponential = np.exp(data)\n",
    "\n",
    "    cosine = np.cos(data)\n",
    "\n",
    "    constant = np.ones(700).reshape(700, 1)\n",
    "\n",
    "    return np.hstack((linear, quadratic, exponential, cosine, constant))"
   ]
  },
  {
   "cell_type": "code",
   "execution_count": 4,
   "metadata": {},
   "outputs": [
    {
     "data": {
      "text/plain": [
       "(700, 21)"
      ]
     },
     "metadata": {},
     "output_type": "display_data"
    },
    {
     "data": {
      "text/plain": [
       "array([-0.26      ,  0.        , -0.01      , -0.38      , -0.06      ,\n",
       "        0.0676    ,  0.        ,  0.0001    ,  0.1444    ,  0.0036    ,\n",
       "        0.77105159,  1.        ,  0.99004983,  0.68386141,  0.94176453,\n",
       "        0.96638998,  1.        ,  0.99995   ,  0.92866464,  0.99820054,\n",
       "        1.        ])"
      ]
     },
     "metadata": {},
     "output_type": "display_data"
    }
   ],
   "source": [
    "X = transform_features(X)\n",
    "\n",
    "display(X.shape)\n",
    "display(X[0, :])"
   ]
  },
  {
   "cell_type": "markdown",
   "metadata": {},
   "source": [
    "# Linear regression\n",
    "## Training"
   ]
  },
  {
   "cell_type": "code",
   "execution_count": 5,
   "metadata": {},
   "outputs": [],
   "source": [
    "reg = Ridge(alpha=1, fit_intercept=False).fit(X, y)"
   ]
  },
  {
   "cell_type": "code",
   "execution_count": 6,
   "metadata": {},
   "outputs": [
    {
     "data": {
      "text/plain": [
       "array([ 1.29212527, -0.34609352,  1.08139671,  1.75272917,  1.26865007,\n",
       "       -1.455314  , -2.54022248, -0.04567181,  0.72561501,  1.28742921,\n",
       "        0.23309222, -1.74835185,  0.75830334,  2.0344196 ,  1.53017826,\n",
       "        0.44611499,  0.98755929, -0.24532562, -0.63113936, -0.89821635,\n",
       "       -0.27009702])"
      ]
     },
     "metadata": {},
     "output_type": "display_data"
    },
    {
     "data": {
      "text/plain": [
       "0.01604841748054553"
      ]
     },
     "metadata": {},
     "output_type": "display_data"
    }
   ],
   "source": [
    "display(reg.coef_)\n",
    "display(reg.score(X, y))"
   ]
  },
  {
   "cell_type": "code",
   "execution_count": 7,
   "metadata": {},
   "outputs": [],
   "source": [
    "np.savetxt('submission.csv', reg.coef_, delimiter='\\n', fmt=\"%.12f\")"
   ]
  },
  {
   "cell_type": "code",
   "execution_count": null,
   "metadata": {},
   "outputs": [],
   "source": []
  }
 ],
 "metadata": {
  "kernelspec": {
   "display_name": "iml",
   "language": "python",
   "name": "iml"
  },
  "language_info": {
   "codemirror_mode": {
    "name": "ipython",
    "version": 3
   },
   "file_extension": ".py",
   "mimetype": "text/x-python",
   "name": "python",
   "nbconvert_exporter": "python",
   "pygments_lexer": "ipython3",
   "version": "3.8.1"
  }
 },
 "nbformat": 4,
 "nbformat_minor": 4
}
