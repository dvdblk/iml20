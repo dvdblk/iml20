{
 "cells": [
  {
   "cell_type": "code",
   "execution_count": 1,
   "metadata": {},
   "outputs": [],
   "source": [
    "import numpy as np\n",
    "import pandas as pd\n",
    "from tqdm import tqdm\n",
    "\n",
    "from sklearn.linear_model import LinearRegression\n",
    "from sklearn.preprocessing import MinMaxScaler"
   ]
  },
  {
   "cell_type": "markdown",
   "metadata": {},
   "source": [
    "# Data"
   ]
  },
  {
   "cell_type": "code",
   "execution_count": 2,
   "metadata": {},
   "outputs": [
    {
     "data": {
      "text/html": [
       "<div>\n",
       "<style scoped>\n",
       "    .dataframe tbody tr th:only-of-type {\n",
       "        vertical-align: middle;\n",
       "    }\n",
       "\n",
       "    .dataframe tbody tr th {\n",
       "        vertical-align: top;\n",
       "    }\n",
       "\n",
       "    .dataframe thead th {\n",
       "        text-align: right;\n",
       "    }\n",
       "</style>\n",
       "<table border=\"1\" class=\"dataframe\">\n",
       "  <thead>\n",
       "    <tr style=\"text-align: right;\">\n",
       "      <th></th>\n",
       "      <th>Id</th>\n",
       "      <th>y</th>\n",
       "      <th>x1</th>\n",
       "      <th>x2</th>\n",
       "      <th>x3</th>\n",
       "      <th>x4</th>\n",
       "      <th>x5</th>\n",
       "    </tr>\n",
       "  </thead>\n",
       "  <tbody>\n",
       "    <tr>\n",
       "      <th>0</th>\n",
       "      <td>0</td>\n",
       "      <td>3.579620</td>\n",
       "      <td>0.02</td>\n",
       "      <td>0.05</td>\n",
       "      <td>-0.09</td>\n",
       "      <td>-0.43</td>\n",
       "      <td>-0.08</td>\n",
       "    </tr>\n",
       "    <tr>\n",
       "      <th>1</th>\n",
       "      <td>1</td>\n",
       "      <td>0.734869</td>\n",
       "      <td>-0.13</td>\n",
       "      <td>0.11</td>\n",
       "      <td>-0.08</td>\n",
       "      <td>-0.29</td>\n",
       "      <td>-0.03</td>\n",
       "    </tr>\n",
       "    <tr>\n",
       "      <th>2</th>\n",
       "      <td>2</td>\n",
       "      <td>4.287433</td>\n",
       "      <td>0.08</td>\n",
       "      <td>0.06</td>\n",
       "      <td>-0.07</td>\n",
       "      <td>-0.41</td>\n",
       "      <td>-0.03</td>\n",
       "    </tr>\n",
       "    <tr>\n",
       "      <th>3</th>\n",
       "      <td>3</td>\n",
       "      <td>8.347827</td>\n",
       "      <td>0.02</td>\n",
       "      <td>-0.12</td>\n",
       "      <td>0.01</td>\n",
       "      <td>-0.43</td>\n",
       "      <td>-0.02</td>\n",
       "    </tr>\n",
       "    <tr>\n",
       "      <th>4</th>\n",
       "      <td>4</td>\n",
       "      <td>-0.052718</td>\n",
       "      <td>-0.14</td>\n",
       "      <td>-0.12</td>\n",
       "      <td>-0.08</td>\n",
       "      <td>-0.02</td>\n",
       "      <td>-0.08</td>\n",
       "    </tr>\n",
       "  </tbody>\n",
       "</table>\n",
       "</div>"
      ],
      "text/plain": [
       "   Id         y    x1    x2    x3    x4    x5\n",
       "0   0  3.579620  0.02  0.05 -0.09 -0.43 -0.08\n",
       "1   1  0.734869 -0.13  0.11 -0.08 -0.29 -0.03\n",
       "2   2  4.287433  0.08  0.06 -0.07 -0.41 -0.03\n",
       "3   3  8.347827  0.02 -0.12  0.01 -0.43 -0.02\n",
       "4   4 -0.052718 -0.14 -0.12 -0.08 -0.02 -0.08"
      ]
     },
     "metadata": {},
     "output_type": "display_data"
    },
    {
     "data": {
      "text/html": [
       "<div>\n",
       "<style scoped>\n",
       "    .dataframe tbody tr th:only-of-type {\n",
       "        vertical-align: middle;\n",
       "    }\n",
       "\n",
       "    .dataframe tbody tr th {\n",
       "        vertical-align: top;\n",
       "    }\n",
       "\n",
       "    .dataframe thead th {\n",
       "        text-align: right;\n",
       "    }\n",
       "</style>\n",
       "<table border=\"1\" class=\"dataframe\">\n",
       "  <thead>\n",
       "    <tr style=\"text-align: right;\">\n",
       "      <th></th>\n",
       "      <th>x1</th>\n",
       "      <th>x2</th>\n",
       "      <th>x3</th>\n",
       "      <th>x4</th>\n",
       "      <th>x5</th>\n",
       "    </tr>\n",
       "  </thead>\n",
       "  <tbody>\n",
       "    <tr>\n",
       "      <th>0</th>\n",
       "      <td>0.02</td>\n",
       "      <td>0.05</td>\n",
       "      <td>-0.09</td>\n",
       "      <td>-0.43</td>\n",
       "      <td>-0.08</td>\n",
       "    </tr>\n",
       "    <tr>\n",
       "      <th>1</th>\n",
       "      <td>-0.13</td>\n",
       "      <td>0.11</td>\n",
       "      <td>-0.08</td>\n",
       "      <td>-0.29</td>\n",
       "      <td>-0.03</td>\n",
       "    </tr>\n",
       "    <tr>\n",
       "      <th>2</th>\n",
       "      <td>0.08</td>\n",
       "      <td>0.06</td>\n",
       "      <td>-0.07</td>\n",
       "      <td>-0.41</td>\n",
       "      <td>-0.03</td>\n",
       "    </tr>\n",
       "    <tr>\n",
       "      <th>3</th>\n",
       "      <td>0.02</td>\n",
       "      <td>-0.12</td>\n",
       "      <td>0.01</td>\n",
       "      <td>-0.43</td>\n",
       "      <td>-0.02</td>\n",
       "    </tr>\n",
       "    <tr>\n",
       "      <th>4</th>\n",
       "      <td>-0.14</td>\n",
       "      <td>-0.12</td>\n",
       "      <td>-0.08</td>\n",
       "      <td>-0.02</td>\n",
       "      <td>-0.08</td>\n",
       "    </tr>\n",
       "  </tbody>\n",
       "</table>\n",
       "</div>"
      ],
      "text/plain": [
       "     x1    x2    x3    x4    x5\n",
       "0  0.02  0.05 -0.09 -0.43 -0.08\n",
       "1 -0.13  0.11 -0.08 -0.29 -0.03\n",
       "2  0.08  0.06 -0.07 -0.41 -0.03\n",
       "3  0.02 -0.12  0.01 -0.43 -0.02\n",
       "4 -0.14 -0.12 -0.08 -0.02 -0.08"
      ]
     },
     "metadata": {},
     "output_type": "display_data"
    },
    {
     "data": {
      "text/plain": [
       "0    3.579620\n",
       "1    0.734869\n",
       "2    4.287433\n",
       "3    8.347827\n",
       "4   -0.052718\n",
       "Name: y, dtype: float64"
      ]
     },
     "metadata": {},
     "output_type": "display_data"
    },
    {
     "name": "stdout",
     "output_type": "stream",
     "text": [
      "(700, 5) (700,)\n"
     ]
    }
   ],
   "source": [
    "# load the data from a filepath\n",
    "data_filepath = 'data/train.csv'\n",
    "\n",
    "# create the dataframe\n",
    "raw_df = pd.read_csv(data_filepath)\n",
    "display(raw_df.head())\n",
    "\n",
    "# Split into features and labels (still dataframes)\n",
    "X_df = raw_df.iloc[:, 2:]\n",
    "y_df = raw_df.iloc[:, 1]\n",
    "\n",
    "display(X_df.head())\n",
    "display(y_df.head())\n",
    "\n",
    "# Create numpy arrays from the pandas dataframes\n",
    "#X = X_df.to_numpy()\n",
    "X = MinMaxScaler().fit_transform(X_df)\n",
    "y = y_df.to_numpy()\n",
    "\n",
    "print(X.shape, y.shape)"
   ]
  },
  {
   "cell_type": "markdown",
   "metadata": {},
   "source": [
    "## Feature transformations\n",
    "\n",
    "* Linear\n",
    "\n",
    "  $$\\phi_1(\\mathbf{x}) = x_1,~ \\phi_2(\\mathbf{x}) = x_2,~ \\phi_3(\\mathbf{x}) = x_3,~ \\phi_4(\\mathbf{x}) = x_4,~ \\phi_5(\\mathbf{x}) = x_5,~$$\n",
    "  \n",
    "* Quadratic\n",
    "\n",
    "  $$\\phi_6(\\mathbf{x}) = x^2_1,~ \\phi_7(\\mathbf{x}) = x^2_2,~ \\phi_8(\\mathbf{x}) = x^2_3,~ \\phi_9(\\mathbf{x}) = x^2_4,~ \\phi_{10}(\\mathbf{x}) = x^2_5,~$$\n",
    "\n",
    "* Exponential\n",
    "\n",
    "    $$\\phi_{11}(\\mathbf{x}) = e^{x_1},~ \\phi_{12}(\\mathbf{x}) = e^{x_2},~ \\phi_{13}(\\mathbf{x}) = e^{x_3},~ \\phi_{14}(\\mathbf{x}) = e^{x_4},~ \\phi_{15}(\\mathbf{x}) = e^{x_5}$$\n",
    "    \n",
    "* Cosine\n",
    "\n",
    "    $$\\phi_{16}(\\mathbf{x}) = \\textrm{cos}(x_1),~ \\phi_{17}(\\mathbf{x}) = \\textrm{cos}(x_2),~ \\phi_{18}(\\mathbf{x}) = \\textrm{cos}(x_3),~ \\phi_{19}(\\mathbf{x}) = \\textrm{cos}(x_4),~ \\phi_{20}(\\mathbf{x}) = \\textrm{cos}(x_5)$$\n",
    "\n",
    "* Constant\n",
    "\n",
    "    $$\\phi_{21}(\\mathbf{x})=1$$"
   ]
  },
  {
   "cell_type": "code",
   "execution_count": 3,
   "metadata": {},
   "outputs": [],
   "source": [
    "def transform_features(data):\n",
    "    linear = data.copy()\n",
    "\n",
    "    quadratic = np.multiply(data, data)\n",
    "\n",
    "    exponential = np.exp(data)\n",
    "\n",
    "    cosine = np.cos(data)\n",
    "\n",
    "    constant = np.ones(700).reshape(700, 1)\n",
    "    \n",
    "    assert((linear == data).all())\n",
    "\n",
    "    return np.hstack((linear, quadratic, exponential, cosine, constant))"
   ]
  },
  {
   "cell_type": "code",
   "execution_count": 4,
   "metadata": {},
   "outputs": [
    {
     "data": {
      "text/plain": [
       "(700, 21)"
      ]
     },
     "metadata": {},
     "output_type": "display_data"
    },
    {
     "data": {
      "text/plain": [
       "array([0.56626506, 0.6025641 , 0.48148148, 0.09375   , 0.76190476,\n",
       "       0.32065612, 0.3630835 , 0.23182442, 0.00878906, 0.58049887,\n",
       "       1.761675  , 1.82679689, 1.61847036, 1.09828514, 2.14235301,\n",
       "       0.84391059, 0.8238851 , 0.88630983, 0.99560869, 0.72352247,\n",
       "       1.        ])"
      ]
     },
     "metadata": {},
     "output_type": "display_data"
    }
   ],
   "source": [
    "X = transform_features(X)\n",
    "\n",
    "np.set_printoptions(suppress=True)\n",
    "display(X.shape)\n",
    "display(X[0, :])"
   ]
  },
  {
   "cell_type": "markdown",
   "metadata": {},
   "source": [
    "# Linear regression\n",
    "## Training"
   ]
  },
  {
   "cell_type": "code",
   "execution_count": 5,
   "metadata": {},
   "outputs": [],
   "source": [
    "reg = LinearRegression().fit(X, y)"
   ]
  },
  {
   "cell_type": "code",
   "execution_count": 6,
   "metadata": {},
   "outputs": [
    {
     "data": {
      "text/plain": [
       "array([-1340.32042514,   -79.35369453,  -426.14899991,   747.2814417 ,\n",
       "       -1515.35178074, -3292.84009675,   -93.63734621, -1128.35348962,\n",
       "        1999.90296035, -3494.70398959,  1372.76919139,   103.24976491,\n",
       "         421.8694849 ,  -752.21326689,  1544.21024437, -4949.96656452,\n",
       "           2.95127537, -1797.89906342,  3141.79755364, -5123.36742139,\n",
       "           0.        ])"
      ]
     },
     "metadata": {},
     "output_type": "display_data"
    },
    {
     "data": {
      "text/plain": [
       "0.032197598187658105"
      ]
     },
     "metadata": {},
     "output_type": "display_data"
    }
   ],
   "source": [
    "display(reg.coef_)\n",
    "display(reg.score(X, y))"
   ]
  },
  {
   "cell_type": "code",
   "execution_count": 7,
   "metadata": {},
   "outputs": [],
   "source": [
    "np.savetxt('submission.csv', reg.coef_, delimiter='\\n', fmt=\"%s\")"
   ]
  },
  {
   "cell_type": "code",
   "execution_count": null,
   "metadata": {},
   "outputs": [],
   "source": []
  }
 ],
 "metadata": {
  "kernelspec": {
   "display_name": "iml",
   "language": "python",
   "name": "iml"
  },
  "language_info": {
   "codemirror_mode": {
    "name": "ipython",
    "version": 3
   },
   "file_extension": ".py",
   "mimetype": "text/x-python",
   "name": "python",
   "nbconvert_exporter": "python",
   "pygments_lexer": "ipython3",
   "version": "3.8.1"
  }
 },
 "nbformat": 4,
 "nbformat_minor": 4
}
